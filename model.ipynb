{
 "cells": [
  {
   "cell_type": "code",
   "execution_count": 10,
   "id": "f7e98f27",
   "metadata": {},
   "outputs": [],
   "source": [
    "# importing the libraries \n",
    "import pandas as pd\n",
    "import numpy as np\n",
    "import matplotlib.pyplot as plt\n",
    "import seaborn as sns\n",
    "import joblib\n",
    "from sklearn.preprocessing import LabelEncoder\n",
    "from sklearn.model_selection import train_test_split\n",
    "from sklearn.linear_model import LinearRegression\n",
    "from sklearn.ensemble import RandomForestRegressor\n",
    "from sklearn.metrics import mean_absolute_error,mean_squared_error,r2_score\n"
   ]
  },
  {
   "cell_type": "markdown",
   "id": "ce11cc31",
   "metadata": {},
   "source": [
    "### MAE=Measures the average absolute difference between actual and predicted values."
   ]
  },
  {
   "cell_type": "markdown",
   "id": "f372c285",
   "metadata": {},
   "source": [
    "## RMSE =Interpretable in the same unit as the output variable."
   ]
  },
  {
   "cell_type": "markdown",
   "id": "85f82ecb",
   "metadata": {},
   "source": [
    "## R2=Represents the proportion of variance explained by the model."
   ]
  },
  {
   "cell_type": "code",
   "execution_count": 11,
   "id": "b165fb64",
   "metadata": {},
   "outputs": [],
   "source": [
    "pre=pd.read_csv('Prediction.csv')\n",
    "\n",
    "Feature=pre[['Area harvested','Yield','Year']]\n",
    "Target=pre['Production']\n",
    "\n",
    "Feature_train,Feature_test,Target_train,Target_test=train_test_split(Feature,Target,test_size=0.2,random_state=42)"
   ]
  },
  {
   "cell_type": "markdown",
   "id": "2d4c4827",
   "metadata": {},
   "source": [
    "## Linear Regression"
   ]
  },
  {
   "cell_type": "code",
   "execution_count": 12,
   "id": "2a371b62",
   "metadata": {},
   "outputs": [
    {
     "name": "stdout",
     "output_type": "stream",
     "text": [
      "Linear Regression:\n",
      "R2 Score: 0.56492334463544\n",
      "MAE: 775200.9003662724\n",
      "MSE: 32454962924921.99\n"
     ]
    }
   ],
   "source": [
    "lr = LinearRegression()\n",
    "lr.fit(Feature_train, Target_train)\n",
    "y_pred_lr = lr.predict(Feature_test)\n",
    "\n",
    "print(\"Linear Regression:\")\n",
    "print(\"R2 Score:\", r2_score(Target_test, y_pred_lr))\n",
    "print(\"MAE:\", mean_absolute_error(Target_test, y_pred_lr))\n",
    "print(\"MSE:\", mean_squared_error(Target_test, y_pred_lr))"
   ]
  },
  {
   "cell_type": "markdown",
   "id": "8ab044c4",
   "metadata": {},
   "source": [
    "## Random_Forest"
   ]
  },
  {
   "cell_type": "code",
   "execution_count": 13,
   "id": "c1335328",
   "metadata": {},
   "outputs": [
    {
     "name": "stdout",
     "output_type": "stream",
     "text": [
      "The Mean Absolute Error: 239580.6109116484\n",
      "The Mean Square Error : 3419431519988.837\n",
      "The Root Mean Square Error: 489.4697242032937\n",
      "The R2 Score : 0.9541606369291986\n"
     ]
    }
   ],
   "source": [
    "RF_Model=RandomForestRegressor(n_estimators=100,random_state=42)\n",
    "RF_Model.fit(Feature_train,Target_train)\n",
    "\n",
    "Target_predict=RF_Model.predict(Feature_test)\n",
    "\n",
    "print(f\"The Mean Absolute Error: {mean_absolute_error(Target_test,Target_predict)}\")\n",
    "print(f\"The Mean Square Error : {mean_squared_error(Target_test,Target_predict)}\")\n",
    "print(f\"The Root Mean Square Error: {np.sqrt(mean_absolute_error(Target_test,Target_predict))}\")\n",
    "print(f\"The R2 Score : {r2_score(Target_test,Target_predict)}\")"
   ]
  },
  {
   "cell_type": "code",
   "execution_count": 14,
   "id": "0b9dd860",
   "metadata": {},
   "outputs": [
    {
     "name": "stdout",
     "output_type": "stream",
     "text": [
      "               Model  R2 Score            MAE           MSE\n",
      "0  Linear Regression  0.564923  775200.900366  3.245496e+13\n",
      "1      Random Forest  0.954161  239580.610912  3.419432e+12\n"
     ]
    }
   ],
   "source": [
    "results = {\n",
    "    'Model': ['Linear Regression', 'Random Forest'],\n",
    "    'R2 Score': [r2_score(Target_test, y_pred_lr), r2_score(Target_test, Target_predict)],\n",
    "    'MAE': [mean_absolute_error(Target_test, y_pred_lr), mean_absolute_error(Target_test, Target_predict)],\n",
    "    'MSE': [mean_squared_error(Target_test, y_pred_lr), mean_squared_error(Target_test, Target_predict)],\n",
    "}\n",
    "\n",
    "import pandas as pd\n",
    "results_df = pd.DataFrame(results)\n",
    "print(results_df)\n"
   ]
  },
  {
   "cell_type": "code",
   "execution_count": 15,
   "id": "eddea61d",
   "metadata": {},
   "outputs": [
    {
     "data": {
      "text/plain": [
       "['random_forest_model.pkl']"
      ]
     },
     "execution_count": 15,
     "metadata": {},
     "output_type": "execute_result"
    }
   ],
   "source": [
    "joblib.dump(RF_Model, 'random_forest_model.pkl')"
   ]
  }
 ],
 "metadata": {
  "kernelspec": {
   "display_name": "Python 3",
   "language": "python",
   "name": "python3"
  },
  "language_info": {
   "codemirror_mode": {
    "name": "ipython",
    "version": 3
   },
   "file_extension": ".py",
   "mimetype": "text/x-python",
   "name": "python",
   "nbconvert_exporter": "python",
   "pygments_lexer": "ipython3",
   "version": "3.10.0"
  }
 },
 "nbformat": 4,
 "nbformat_minor": 5
}
