{
 "cells": [
  {
   "cell_type": "code",
   "execution_count": null,
   "id": "f7e98f27",
   "metadata": {},
   "outputs": [],
   "source": [
    "# importing the libraries \n",
    "import pandas as pd\n",
    "import numpy as np\n",
    "import matplotlib.pyplot as plt\n",
    "import seaborn as sns\n",
    "import joblib\n",
    "from sklearn.preprocessing import LabelEncoder\n",
    "from sklearn.model_selection import train_test_split\n",
    "from sklearn.ensemble import RandomForestRegressor\n",
    "from sklearn.metrics import mean_absolute_error,mean_squared_error,r2_score\n"
   ]
  },
  {
   "cell_type": "code",
   "execution_count": 2,
   "id": "b165fb64",
   "metadata": {},
   "outputs": [
    {
     "name": "stdout",
     "output_type": "stream",
     "text": [
      "The Mean Absolute Error: 123193.27994294984\n",
      "The Mean Square Error : 5749076860538.9\n",
      "The Root Mean Square Error: 350.9890025954515\n",
      "The R2 Score : 0.9016447771131498\n"
     ]
    }
   ],
   "source": [
    "pre=pd.read_csv('Prediction.csv')\n",
    "\n",
    "labelencoder=LabelEncoder()\n",
    "for col in ['Domain','Area','Item','Unit']:\n",
    "    pre[col]=labelencoder.fit_transform(pre[col])\n",
    "\n",
    "Feature=pre.drop(columns=['Production'])\n",
    "Target=pre['Production']\n",
    "\n",
    "Feature_train,Feature_test,Target_train,Target_test=train_test_split(Feature,Target,test_size=0.2,random_state=42)\n",
    "\n",
    "RF_Model=RandomForestRegressor(n_estimators=100,random_state=42)\n",
    "RF_Model.fit(Feature_train,Target_train)\n",
    "\n",
    "Target_predict=RF_Model.predict(Feature_test)\n",
    "\n",
    "print(f\"The Mean Absolute Error: {mean_absolute_error(Target_test,Target_predict)}\")\n",
    "print(f\"The Mean Square Error : {mean_squared_error(Target_test,Target_predict)}\")\n",
    "print(f\"The Root Mean Square Error: {np.sqrt(mean_absolute_error(Target_test,Target_predict))}\")\n",
    "print(f\"The R2 Score : {r2_score(Target_test,Target_predict)}\")"
   ]
  },
  {
   "cell_type": "code",
   "execution_count": 5,
   "id": "eddea61d",
   "metadata": {},
   "outputs": [],
   "source": [
    "jb = joblib.dump(RF_Model, r\"D:\\DS-Class\\project\\Mini_pro3\\model.pk1\")"
   ]
  }
 ],
 "metadata": {
  "kernelspec": {
   "display_name": "Python 3",
   "language": "python",
   "name": "python3"
  },
  "language_info": {
   "codemirror_mode": {
    "name": "ipython",
    "version": 3
   },
   "file_extension": ".py",
   "mimetype": "text/x-python",
   "name": "python",
   "nbconvert_exporter": "python",
   "pygments_lexer": "ipython3",
   "version": "3.10.0"
  }
 },
 "nbformat": 4,
 "nbformat_minor": 5
}
