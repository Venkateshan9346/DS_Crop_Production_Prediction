{
 "cells": [
  {
   "cell_type": "code",
   "execution_count": 55,
   "metadata": {},
   "outputs": [],
   "source": [
    "# importing the libraries \n",
    "import pandas as pd\n",
    "import numpy as np\n",
    "import matplotlib.pyplot as plt\n",
    "import seaborn as sns\n",
    "from sklearn.preprocessing import LabelEncoder\n",
    "from sklearn.model_selection import train_test_split\n",
    "from sklearn.ensemble import RandomForestRegressor\n",
    "from sklearn.metrics import mean_absolute_error,mean_squared_error,r2_score\n"
   ]
  },
  {
   "cell_type": "code",
   "execution_count": 56,
   "metadata": {},
   "outputs": [],
   "source": [
    "df=pd.read_csv('FAOSTAT_data - FAOSTAT_data_en_12-29-2024.csv')"
   ]
  },
  {
   "cell_type": "code",
   "execution_count": null,
   "metadata": {},
   "outputs": [],
   "source": []
  },
  {
   "cell_type": "code",
   "execution_count": 57,
   "metadata": {},
   "outputs": [],
   "source": [
    "DataFrame=df.drop(columns=['Domain Code','Area Code (M49)','Item Code (CPC)','Element Code','Year Code','Flag','Flag Description','Note'])"
   ]
  },
  {
   "cell_type": "code",
   "execution_count": 58,
   "metadata": {},
   "outputs": [],
   "source": [
    "df_filtered = df[['Area', 'Item', 'Element', 'Year', 'Unit', 'Value']]\n",
    "\n",
    "df_pivot = df_filtered.pivot_table(\n",
    "    index=['Area', 'Item', 'Year'],\n",
    "    columns='Element',\n",
    "    values='Value',\n",
    "    aggfunc='first'\n",
    ").reset_index()\n"
   ]
  },
  {
   "cell_type": "code",
   "execution_count": 59,
   "metadata": {},
   "outputs": [
    {
     "name": "stderr",
     "output_type": "stream",
     "text": [
      "C:\\Users\\keert\\AppData\\Local\\Temp\\ipykernel_10140\\1544902184.py:1: FutureWarning: A value is trying to be set on a copy of a DataFrame or Series through chained assignment using an inplace method.\n",
      "The behavior will change in pandas 3.0. This inplace method will never work because the intermediate object on which we are setting values always behaves as a copy.\n",
      "\n",
      "For example, when doing 'df[col].method(value, inplace=True)', try using 'df.method({col: value}, inplace=True)' or df[col] = df[col].method(value) instead, to perform the operation inplace on the original object.\n",
      "\n",
      "\n",
      "  df_pivot['Area harvested'].fillna(df_pivot['Area harvested'].median(), inplace=True)\n",
      "C:\\Users\\keert\\AppData\\Local\\Temp\\ipykernel_10140\\1544902184.py:2: FutureWarning: A value is trying to be set on a copy of a DataFrame or Series through chained assignment using an inplace method.\n",
      "The behavior will change in pandas 3.0. This inplace method will never work because the intermediate object on which we are setting values always behaves as a copy.\n",
      "\n",
      "For example, when doing 'df[col].method(value, inplace=True)', try using 'df.method({col: value}, inplace=True)' or df[col] = df[col].method(value) instead, to perform the operation inplace on the original object.\n",
      "\n",
      "\n",
      "  df_pivot['Yield'].fillna(df_pivot['Yield'].median(), inplace=True)\n",
      "C:\\Users\\keert\\AppData\\Local\\Temp\\ipykernel_10140\\1544902184.py:3: FutureWarning: A value is trying to be set on a copy of a DataFrame or Series through chained assignment using an inplace method.\n",
      "The behavior will change in pandas 3.0. This inplace method will never work because the intermediate object on which we are setting values always behaves as a copy.\n",
      "\n",
      "For example, when doing 'df[col].method(value, inplace=True)', try using 'df.method({col: value}, inplace=True)' or df[col] = df[col].method(value) instead, to perform the operation inplace on the original object.\n",
      "\n",
      "\n",
      "  df_pivot['Production'].fillna(df_pivot['Production'].median(), inplace=True)\n"
     ]
    }
   ],
   "source": [
    "df_pivot['Area harvested'].fillna(df_pivot['Area harvested'].median(), inplace=True)\n",
    "df_pivot['Yield'].fillna(df_pivot['Yield'].median(), inplace=True)\n",
    "df_pivot['Production'].fillna(df_pivot['Production'].median(), inplace=True)"
   ]
  },
  {
   "cell_type": "code",
   "execution_count": 61,
   "metadata": {},
   "outputs": [
    {
     "name": "stdout",
     "output_type": "stream",
     "text": [
      "Element          Year  Area harvested          Yield    Production\n",
      "count    88600.000000    8.860000e+04   88600.000000  8.860000e+04\n",
      "mean      2020.935474    9.408072e+04   10072.218520  7.872748e+05\n",
      "std          1.387757    1.054751e+06   22026.470891  9.533621e+06\n",
      "min       2019.000000    1.000000e+00       1.300000  1.000000e-02\n",
      "25%       2020.000000    3.005000e+03    4130.300000  1.731648e+03\n",
      "50%       2021.000000    3.005000e+03    5463.800000  1.042758e+04\n",
      "75%       2022.000000    4.052000e+03    6961.975000  7.866039e+04\n",
      "max       2023.000000    4.783200e+07  705196.700000  7.825858e+08\n"
     ]
    }
   ],
   "source": [
    "df_pivot = df_pivot[['Area', 'Item', 'Year', 'Area harvested', 'Yield', 'Production']]\n",
    "df_pivot = df_pivot[\n",
    "    (df_pivot['Area harvested'] > 0) &\n",
    "    (df_pivot['Yield'] > 0) &\n",
    "    (df_pivot['Production'] > 0)\n",
    "]\n",
    "print(df_pivot.describe())\n"
   ]
  },
  {
   "cell_type": "code",
   "execution_count": 62,
   "metadata": {},
   "outputs": [],
   "source": [
    "Data_Frame_2=pd.DataFrame(df_pivot)\n",
    "Data_Frame_2.to_csv('Prediction.csv',index=False)"
   ]
  },
  {
   "cell_type": "code",
   "execution_count": 63,
   "metadata": {},
   "outputs": [
    {
     "data": {
      "text/html": [
       "<div>\n",
       "<style scoped>\n",
       "    .dataframe tbody tr th:only-of-type {\n",
       "        vertical-align: middle;\n",
       "    }\n",
       "\n",
       "    .dataframe tbody tr th {\n",
       "        vertical-align: top;\n",
       "    }\n",
       "\n",
       "    .dataframe thead th {\n",
       "        text-align: right;\n",
       "    }\n",
       "</style>\n",
       "<table border=\"1\" class=\"dataframe\">\n",
       "  <thead>\n",
       "    <tr style=\"text-align: right;\">\n",
       "      <th>Element</th>\n",
       "      <th>Year</th>\n",
       "      <th>Area harvested</th>\n",
       "      <th>Yield</th>\n",
       "      <th>Production</th>\n",
       "    </tr>\n",
       "  </thead>\n",
       "  <tbody>\n",
       "    <tr>\n",
       "      <th>count</th>\n",
       "      <td>88600.000000</td>\n",
       "      <td>8.860000e+04</td>\n",
       "      <td>88600.000000</td>\n",
       "      <td>8.860000e+04</td>\n",
       "    </tr>\n",
       "    <tr>\n",
       "      <th>mean</th>\n",
       "      <td>2020.935474</td>\n",
       "      <td>9.408072e+04</td>\n",
       "      <td>10072.218520</td>\n",
       "      <td>7.872748e+05</td>\n",
       "    </tr>\n",
       "    <tr>\n",
       "      <th>std</th>\n",
       "      <td>1.387757</td>\n",
       "      <td>1.054751e+06</td>\n",
       "      <td>22026.470891</td>\n",
       "      <td>9.533621e+06</td>\n",
       "    </tr>\n",
       "    <tr>\n",
       "      <th>min</th>\n",
       "      <td>2019.000000</td>\n",
       "      <td>1.000000e+00</td>\n",
       "      <td>1.300000</td>\n",
       "      <td>1.000000e-02</td>\n",
       "    </tr>\n",
       "    <tr>\n",
       "      <th>25%</th>\n",
       "      <td>2020.000000</td>\n",
       "      <td>3.005000e+03</td>\n",
       "      <td>4130.300000</td>\n",
       "      <td>1.731648e+03</td>\n",
       "    </tr>\n",
       "    <tr>\n",
       "      <th>50%</th>\n",
       "      <td>2021.000000</td>\n",
       "      <td>3.005000e+03</td>\n",
       "      <td>5463.800000</td>\n",
       "      <td>1.042758e+04</td>\n",
       "    </tr>\n",
       "    <tr>\n",
       "      <th>75%</th>\n",
       "      <td>2022.000000</td>\n",
       "      <td>4.052000e+03</td>\n",
       "      <td>6961.975000</td>\n",
       "      <td>7.866039e+04</td>\n",
       "    </tr>\n",
       "    <tr>\n",
       "      <th>max</th>\n",
       "      <td>2023.000000</td>\n",
       "      <td>4.783200e+07</td>\n",
       "      <td>705196.700000</td>\n",
       "      <td>7.825858e+08</td>\n",
       "    </tr>\n",
       "  </tbody>\n",
       "</table>\n",
       "</div>"
      ],
      "text/plain": [
       "Element          Year  Area harvested          Yield    Production\n",
       "count    88600.000000    8.860000e+04   88600.000000  8.860000e+04\n",
       "mean      2020.935474    9.408072e+04   10072.218520  7.872748e+05\n",
       "std          1.387757    1.054751e+06   22026.470891  9.533621e+06\n",
       "min       2019.000000    1.000000e+00       1.300000  1.000000e-02\n",
       "25%       2020.000000    3.005000e+03    4130.300000  1.731648e+03\n",
       "50%       2021.000000    3.005000e+03    5463.800000  1.042758e+04\n",
       "75%       2022.000000    4.052000e+03    6961.975000  7.866039e+04\n",
       "max       2023.000000    4.783200e+07  705196.700000  7.825858e+08"
      ]
     },
     "execution_count": 63,
     "metadata": {},
     "output_type": "execute_result"
    }
   ],
   "source": [
    "Data_Frame_2.describe()"
   ]
  }
 ],
 "metadata": {
  "kernelspec": {
   "display_name": "Python 3",
   "language": "python",
   "name": "python3"
  },
  "language_info": {
   "codemirror_mode": {
    "name": "ipython",
    "version": 3
   },
   "file_extension": ".py",
   "mimetype": "text/x-python",
   "name": "python",
   "nbconvert_exporter": "python",
   "pygments_lexer": "ipython3",
   "version": "3.10.0"
  }
 },
 "nbformat": 4,
 "nbformat_minor": 2
}
