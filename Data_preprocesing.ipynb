{
 "cells": [
  {
   "cell_type": "code",
   "execution_count": 4,
   "metadata": {},
   "outputs": [],
   "source": [
    "# importing the libraries \n",
    "import pandas as pd\n",
    "import numpy as np\n",
    "import matplotlib.pyplot as plt\n",
    "import seaborn as sns\n",
    "from sklearn.preprocessing import LabelEncoder\n",
    "from sklearn.model_selection import train_test_split\n",
    "from sklearn.ensemble import RandomForestRegressor\n",
    "from sklearn.metrics import mean_absolute_error,mean_squared_error,r2_score\n"
   ]
  },
  {
   "cell_type": "code",
   "execution_count": 5,
   "metadata": {},
   "outputs": [],
   "source": [
    "df=pd.read_csv('FAOSTAT_data - FAOSTAT_data_en_12-29-2024.csv')"
   ]
  },
  {
   "cell_type": "code",
   "execution_count": 6,
   "metadata": {},
   "outputs": [],
   "source": [
    "DataFrame=df.drop(columns=['Domain Code','Area Code (M49)','Item Code (CPC)','Element Code','Year Code','Flag','Flag Description','Note'])"
   ]
  },
  {
   "cell_type": "code",
   "execution_count": 7,
   "metadata": {},
   "outputs": [
    {
     "name": "stdout",
     "output_type": "stream",
     "text": [
      "Categorical Values:\n",
      " ['Domain', 'Area', 'Element', 'Item', 'Unit']\n",
      "Numerical Values\n",
      ": ['Year', 'Value']\n"
     ]
    }
   ],
   "source": [
    "categorical=[x for x in DataFrame.columns if df[x].dtype=='object']\n",
    "print('Categorical Values:\\n',categorical)\n",
    "\n",
    "numerical=[y for y in DataFrame if df[y].dtype!='object']\n",
    "print('Numerical Values\\n:',numerical)"
   ]
  },
  {
   "cell_type": "code",
   "execution_count": 8,
   "metadata": {},
   "outputs": [],
   "source": [
    "OG = DataFrame.pivot_table(index=['Domain','Area','Item','Unit','Year'],\n",
    "                             columns='Element',\n",
    "                             values='Value',\n",
    "                             aggfunc='first').reset_index()\n",
    "\n",
    "OG.columns=[y if isinstance(y,str)else y[1]for y in OG.columns]\n"
   ]
  },
  {
   "cell_type": "code",
   "execution_count": 9,
   "metadata": {},
   "outputs": [
    {
     "data": {
      "text/plain": [
       "np.int64(0)"
      ]
     },
     "execution_count": 9,
     "metadata": {},
     "output_type": "execute_result"
    }
   ],
   "source": [
    "OG.duplicated().sum()"
   ]
  },
  {
   "cell_type": "code",
   "execution_count": 10,
   "metadata": {},
   "outputs": [],
   "source": [
    "Col=['Laying','Milk Animals','Producing Animals/Slaughtered','Stocks','Yield/Carcass Weight']\n",
    "OG.drop(columns=[x for x in Col if x in OG.columns],inplace=True)"
   ]
  },
  {
   "cell_type": "code",
   "execution_count": 11,
   "metadata": {},
   "outputs": [
    {
     "name": "stdout",
     "output_type": "stream",
     "text": [
      "0\n"
     ]
    }
   ],
   "source": [
    "dup=OG[['Domain', 'Area', 'Item', 'Unit', 'Year', 'Area harvested', 'Production', 'Yield']].duplicated().sum()\n",
    "print(dup)"
   ]
  },
  {
   "cell_type": "code",
   "execution_count": 12,
   "metadata": {},
   "outputs": [
    {
     "name": "stderr",
     "output_type": "stream",
     "text": [
      "C:\\Users\\keert\\AppData\\Local\\Temp\\ipykernel_13628\\3666284728.py:2: FutureWarning: A value is trying to be set on a copy of a DataFrame or Series through chained assignment using an inplace method.\n",
      "The behavior will change in pandas 3.0. This inplace method will never work because the intermediate object on which we are setting values always behaves as a copy.\n",
      "\n",
      "For example, when doing 'df[col].method(value, inplace=True)', try using 'df.method({col: value}, inplace=True)' or df[col] = df[col].method(value) instead, to perform the operation inplace on the original object.\n",
      "\n",
      "\n",
      "  OG['Area harvested'].fillna(OG['Area harvested'].median(),inplace=True)\n",
      "C:\\Users\\keert\\AppData\\Local\\Temp\\ipykernel_13628\\3666284728.py:5: FutureWarning: A value is trying to be set on a copy of a DataFrame or Series through chained assignment using an inplace method.\n",
      "The behavior will change in pandas 3.0. This inplace method will never work because the intermediate object on which we are setting values always behaves as a copy.\n",
      "\n",
      "For example, when doing 'df[col].method(value, inplace=True)', try using 'df.method({col: value}, inplace=True)' or df[col] = df[col].method(value) instead, to perform the operation inplace on the original object.\n",
      "\n",
      "\n",
      "  OG['Production'].fillna(OG['Production'].median(),inplace=True)\n",
      "C:\\Users\\keert\\AppData\\Local\\Temp\\ipykernel_13628\\3666284728.py:8: FutureWarning: A value is trying to be set on a copy of a DataFrame or Series through chained assignment using an inplace method.\n",
      "The behavior will change in pandas 3.0. This inplace method will never work because the intermediate object on which we are setting values always behaves as a copy.\n",
      "\n",
      "For example, when doing 'df[col].method(value, inplace=True)', try using 'df.method({col: value}, inplace=True)' or df[col] = df[col].method(value) instead, to perform the operation inplace on the original object.\n",
      "\n",
      "\n",
      "  OG['Yield'].fillna(OG['Yield'].median(),inplace=True)\n"
     ]
    }
   ],
   "source": [
    "if 'Area harvested' in OG.columns:\n",
    "    OG['Area harvested'].fillna(OG['Area harvested'].median(),inplace=True)\n",
    "\n",
    "if 'Production' in OG.columns:\n",
    "    OG['Production'].fillna(OG['Production'].median(),inplace=True)\n",
    "\n",
    "if 'Yield' in OG.columns:\n",
    "    OG['Yield'].fillna(OG['Yield'].median(),inplace=True)"
   ]
  },
  {
   "cell_type": "code",
   "execution_count": 13,
   "metadata": {},
   "outputs": [],
   "source": [
    "Data_Frame_2=pd.DataFrame(OG)\n",
    "Data_Frame_2.to_csv('Prediction.csv',index=False)"
   ]
  },
  {
   "cell_type": "code",
   "execution_count": 14,
   "metadata": {},
   "outputs": [
    {
     "data": {
      "text/html": [
       "<div>\n",
       "<style scoped>\n",
       "    .dataframe tbody tr th:only-of-type {\n",
       "        vertical-align: middle;\n",
       "    }\n",
       "\n",
       "    .dataframe tbody tr th {\n",
       "        vertical-align: top;\n",
       "    }\n",
       "\n",
       "    .dataframe thead th {\n",
       "        text-align: right;\n",
       "    }\n",
       "</style>\n",
       "<table border=\"1\" class=\"dataframe\">\n",
       "  <thead>\n",
       "    <tr style=\"text-align: right;\">\n",
       "      <th></th>\n",
       "      <th>Year</th>\n",
       "      <th>Area harvested</th>\n",
       "      <th>Production</th>\n",
       "      <th>Yield</th>\n",
       "    </tr>\n",
       "  </thead>\n",
       "  <tbody>\n",
       "    <tr>\n",
       "      <th>count</th>\n",
       "      <td>218128.000000</td>\n",
       "      <td>2.181280e+05</td>\n",
       "      <td>2.181280e+05</td>\n",
       "      <td>218128.000000</td>\n",
       "    </tr>\n",
       "    <tr>\n",
       "      <th>mean</th>\n",
       "      <td>2020.973447</td>\n",
       "      <td>3.995849e+04</td>\n",
       "      <td>3.800426e+05</td>\n",
       "      <td>7126.985148</td>\n",
       "    </tr>\n",
       "    <tr>\n",
       "      <th>std</th>\n",
       "      <td>1.403211</td>\n",
       "      <td>6.737062e+05</td>\n",
       "      <td>7.409016e+06</td>\n",
       "      <td>14257.767254</td>\n",
       "    </tr>\n",
       "    <tr>\n",
       "      <th>min</th>\n",
       "      <td>2019.000000</td>\n",
       "      <td>0.000000e+00</td>\n",
       "      <td>0.000000e+00</td>\n",
       "      <td>0.000000</td>\n",
       "    </tr>\n",
       "    <tr>\n",
       "      <th>25%</th>\n",
       "      <td>2020.000000</td>\n",
       "      <td>3.005000e+03</td>\n",
       "      <td>1.092277e+04</td>\n",
       "      <td>5216.200000</td>\n",
       "    </tr>\n",
       "    <tr>\n",
       "      <th>50%</th>\n",
       "      <td>2021.000000</td>\n",
       "      <td>3.005000e+03</td>\n",
       "      <td>1.092277e+04</td>\n",
       "      <td>5216.200000</td>\n",
       "    </tr>\n",
       "    <tr>\n",
       "      <th>75%</th>\n",
       "      <td>2022.000000</td>\n",
       "      <td>3.005000e+03</td>\n",
       "      <td>1.092277e+04</td>\n",
       "      <td>5216.200000</td>\n",
       "    </tr>\n",
       "    <tr>\n",
       "      <th>max</th>\n",
       "      <td>2023.000000</td>\n",
       "      <td>4.783200e+07</td>\n",
       "      <td>7.825858e+08</td>\n",
       "      <td>705196.700000</td>\n",
       "    </tr>\n",
       "  </tbody>\n",
       "</table>\n",
       "</div>"
      ],
      "text/plain": [
       "                Year  Area harvested    Production          Yield\n",
       "count  218128.000000    2.181280e+05  2.181280e+05  218128.000000\n",
       "mean     2020.973447    3.995849e+04  3.800426e+05    7126.985148\n",
       "std         1.403211    6.737062e+05  7.409016e+06   14257.767254\n",
       "min      2019.000000    0.000000e+00  0.000000e+00       0.000000\n",
       "25%      2020.000000    3.005000e+03  1.092277e+04    5216.200000\n",
       "50%      2021.000000    3.005000e+03  1.092277e+04    5216.200000\n",
       "75%      2022.000000    3.005000e+03  1.092277e+04    5216.200000\n",
       "max      2023.000000    4.783200e+07  7.825858e+08  705196.700000"
      ]
     },
     "execution_count": 14,
     "metadata": {},
     "output_type": "execute_result"
    }
   ],
   "source": [
    "Data_Frame_2.describe()"
   ]
  }
 ],
 "metadata": {
  "kernelspec": {
   "display_name": "Python 3",
   "language": "python",
   "name": "python3"
  },
  "language_info": {
   "codemirror_mode": {
    "name": "ipython",
    "version": 3
   },
   "file_extension": ".py",
   "mimetype": "text/x-python",
   "name": "python",
   "nbconvert_exporter": "python",
   "pygments_lexer": "ipython3",
   "version": "3.10.0"
  }
 },
 "nbformat": 4,
 "nbformat_minor": 2
}
